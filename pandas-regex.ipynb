{
 "cells": [
  {
   "cell_type": "code",
   "execution_count": 14,
   "metadata": {},
   "outputs": [
    {
     "name": "stdout",
     "output_type": "stream",
     "text": [
      "                                              review\n",
      "0  Great product! Contact me at john.doe@example....\n",
      "1  My credit card number is 1234-5678-9101-1121. ...\n",
      "2  Wonderful service, will buy again! SSN: 987-65...\n",
      "3   Loved it! For issues, email support@company.com.\n",
      "4     Quick delivery and excellent customer support.\n",
      "5  My email is jane.doe@work.net and I had a grea...\n",
      "6  Call me at 555-123-4567 for any further questi...\n",
      "7  I lost my credit card, the number was 4321-876...\n",
      "8      SSN: 123-45-6789 should not be shared openly.\n",
      "9  Best purchase ever! Reach me at user123@domain...\n"
     ]
    }
   ],
   "source": [
    "import pandas as pd\n",
    "\n",
    "data = {\n",
    "    \"review\": [\n",
    "        \"Great product! Contact me at john.doe@example.com for more details.\",\n",
    "        \"My credit card number is 1234-5678-9101-1121. Please keep it safe.\",\n",
    "        \"Wonderful service, will buy again! SSN: 987-65-4321.\",\n",
    "        \"Loved it! For issues, email support@company.com.\",\n",
    "        \"Quick delivery and excellent customer support.\",\n",
    "        \"My email is jane.doe@work.net and I had a great experience.\",\n",
    "        \"Call me at 555-123-4567 for any further questions.\",\n",
    "        \"I lost my credit card, the number was 4321-8765-0987-6543.\",\n",
    "        \"SSN: 123-45-6789 should not be shared openly.\",\n",
    "        \"Best purchase ever! Reach me at user123@domain.org.\"\n",
    "    ]\n",
    "}\n",
    "\n",
    "df = pd.DataFrame(data)\n",
    "print(df)"
   ]
  },
  {
   "cell_type": "code",
   "execution_count": null,
   "metadata": {},
   "outputs": [],
   "source": []
  },
  {
   "cell_type": "code",
   "execution_count": 15,
   "metadata": {},
   "outputs": [],
   "source": [
    "df[\"review\"] = df[\"review\"].str.replace(r\"\\b\\d{4}.\\d{4}.\\d{4}.\\d{4}\\b\", \"[REDACTED_CC]\", regex = True)\n",
    "df[\"review\"] = df[\"review\"].str.replace(r\"\\b[A-Za-z0-9._%+-]+@[A-Za-z0-9.-]+\\.[A-Z|a-z]{2,}\\b\", \"[REDACTED_EMAIL]\", regex = True)"
   ]
  },
  {
   "cell_type": "code",
   "execution_count": 16,
   "metadata": {},
   "outputs": [
    {
     "data": {
      "text/html": [
       "<div>\n",
       "<style scoped>\n",
       "    .dataframe tbody tr th:only-of-type {\n",
       "        vertical-align: middle;\n",
       "    }\n",
       "\n",
       "    .dataframe tbody tr th {\n",
       "        vertical-align: top;\n",
       "    }\n",
       "\n",
       "    .dataframe thead th {\n",
       "        text-align: right;\n",
       "    }\n",
       "</style>\n",
       "<table border=\"1\" class=\"dataframe\">\n",
       "  <thead>\n",
       "    <tr style=\"text-align: right;\">\n",
       "      <th></th>\n",
       "      <th>review</th>\n",
       "    </tr>\n",
       "  </thead>\n",
       "  <tbody>\n",
       "    <tr>\n",
       "      <th>0</th>\n",
       "      <td>Great product! Contact me at [REDACTED_EMAIL] ...</td>\n",
       "    </tr>\n",
       "    <tr>\n",
       "      <th>1</th>\n",
       "      <td>My credit card number is [REDACTED_CC]. Please...</td>\n",
       "    </tr>\n",
       "    <tr>\n",
       "      <th>2</th>\n",
       "      <td>Wonderful service, will buy again! SSN: 987-65...</td>\n",
       "    </tr>\n",
       "    <tr>\n",
       "      <th>3</th>\n",
       "      <td>Loved it! For issues, email [REDACTED_EMAIL].</td>\n",
       "    </tr>\n",
       "    <tr>\n",
       "      <th>4</th>\n",
       "      <td>Quick delivery and excellent customer support.</td>\n",
       "    </tr>\n",
       "    <tr>\n",
       "      <th>5</th>\n",
       "      <td>My email is [REDACTED_EMAIL] and I had a great...</td>\n",
       "    </tr>\n",
       "    <tr>\n",
       "      <th>6</th>\n",
       "      <td>Call me at 555-123-4567 for any further questi...</td>\n",
       "    </tr>\n",
       "    <tr>\n",
       "      <th>7</th>\n",
       "      <td>I lost my credit card, the number was [REDACTE...</td>\n",
       "    </tr>\n",
       "    <tr>\n",
       "      <th>8</th>\n",
       "      <td>SSN: 123-45-6789 should not be shared openly.</td>\n",
       "    </tr>\n",
       "    <tr>\n",
       "      <th>9</th>\n",
       "      <td>Best purchase ever! Reach me at [REDACTED_EMAIL].</td>\n",
       "    </tr>\n",
       "  </tbody>\n",
       "</table>\n",
       "</div>"
      ],
      "text/plain": [
       "                                              review\n",
       "0  Great product! Contact me at [REDACTED_EMAIL] ...\n",
       "1  My credit card number is [REDACTED_CC]. Please...\n",
       "2  Wonderful service, will buy again! SSN: 987-65...\n",
       "3      Loved it! For issues, email [REDACTED_EMAIL].\n",
       "4     Quick delivery and excellent customer support.\n",
       "5  My email is [REDACTED_EMAIL] and I had a great...\n",
       "6  Call me at 555-123-4567 for any further questi...\n",
       "7  I lost my credit card, the number was [REDACTE...\n",
       "8      SSN: 123-45-6789 should not be shared openly.\n",
       "9  Best purchase ever! Reach me at [REDACTED_EMAIL]."
      ]
     },
     "execution_count": 16,
     "metadata": {},
     "output_type": "execute_result"
    }
   ],
   "source": [
    "df"
   ]
  },
  {
   "cell_type": "code",
   "execution_count": 17,
   "metadata": {},
   "outputs": [],
   "source": [
    "df.to_csv(\"redacted_reviews.csv\")"
   ]
  }
 ],
 "metadata": {
  "kernelspec": {
   "display_name": "Python 3",
   "language": "python",
   "name": "python3"
  },
  "language_info": {
   "codemirror_mode": {
    "name": "ipython",
    "version": 3
   },
   "file_extension": ".py",
   "mimetype": "text/x-python",
   "name": "python",
   "nbconvert_exporter": "python",
   "pygments_lexer": "ipython3",
   "version": "3.10.13"
  }
 },
 "nbformat": 4,
 "nbformat_minor": 2
}
